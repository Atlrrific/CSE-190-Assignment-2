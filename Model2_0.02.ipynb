{
 "cells": [
  {
   "cell_type": "code",
   "execution_count": 1,
   "metadata": {
    "collapsed": true
   },
   "outputs": [],
   "source": [
    "import numpy as np\n",
    "import csv\n",
    "\n",
    "from collections import defaultdict"
   ]
  },
  {
   "cell_type": "code",
   "execution_count": 2,
   "metadata": {
    "collapsed": true
   },
   "outputs": [],
   "source": [
    "text_file = open(\"Model2_0.02_Tags.txt\", \"r\")\n",
    "textFileTags = text_file.readlines()"
   ]
  },
  {
   "cell_type": "code",
   "execution_count": 3,
   "metadata": {
    "collapsed": true
   },
   "outputs": [],
   "source": [
    "text_file.close()"
   ]
  },
  {
   "cell_type": "code",
   "execution_count": 4,
   "metadata": {
    "collapsed": true
   },
   "outputs": [],
   "source": [
    "modelTags = []\n",
    "for x in textFileTags:\n",
    "#     m = x[:len(x)-2]\n",
    "    m = x.rstrip('\\n').split(',')\n",
    "    modelTags.append(m[0])"
   ]
  },
  {
   "cell_type": "code",
   "execution_count": 5,
   "metadata": {
    "collapsed": false
   },
   "outputs": [
    {
     "data": {
      "text/plain": [
       "11534"
      ]
     },
     "execution_count": 5,
     "metadata": {},
     "output_type": "execute_result"
    }
   ],
   "source": [
    "# modelTags\n",
    "len(textFileTags)"
   ]
  },
  {
   "cell_type": "code",
   "execution_count": 6,
   "metadata": {
    "collapsed": false
   },
   "outputs": [
    {
     "data": {
      "text/plain": [
       "11534"
      ]
     },
     "execution_count": 6,
     "metadata": {},
     "output_type": "execute_result"
    }
   ],
   "source": [
    "words = [x for x in modelTags]\n",
    "\n",
    "wordId = dict(zip(words, range(len(words))))\n",
    "wordSet = set(words)\n",
    "len(wordId)"
   ]
  },
  {
   "cell_type": "code",
   "execution_count": 7,
   "metadata": {
    "collapsed": true
   },
   "outputs": [],
   "source": [
    "def parseCSVData(file,data,maxCount):\n",
    "    rowIndex = 0\n",
    "    rowCount = 0\n",
    "    with open(file, 'rb') as csvfile:\n",
    "        spamreader = csv.reader(csvfile, delimiter=',')\n",
    "        for row in spamreader:\n",
    "            if rowCount == maxCount:\n",
    "                break\n",
    "            rowCount+=1\n",
    "            if rowIndex !=0:\n",
    "                element = {}\n",
    "                fieldnames = (\"PostId\",\"PostCreationDate\",\"OwnerUserId\",\"OwnerCreationDate\",\"ReputationAtPostCreation\",\"OwnerUndeletedAnswerCountAtPostTime\",\"Title\",\"BodyMarkdown\",\"Tag1\",\"Tag2\",\"Tag3\",\"Tag4\",\"Tag5\",\"PostClosedDate\",\"OpenStatus\")\n",
    "                index = 0\n",
    "                for i in row:\n",
    "                    element[fieldnames[index]] = i\n",
    "                    if index == 0 or index == 5 or index == 4:   \n",
    "                        element[fieldnames[index]] = int(i)\n",
    "                    index +=1\n",
    "                data.append(element)\n",
    "            else:\n",
    "                rowIndex = 1\n",
    "    return"
   ]
  },
  {
   "cell_type": "code",
   "execution_count": 8,
   "metadata": {
    "collapsed": false
   },
   "outputs": [],
   "source": [
    "leData1 = []\n",
    "max = 150001\n",
    "parseCSVData('output_Final1.csv',leData1,max)"
   ]
  },
  {
   "cell_type": "code",
   "execution_count": 12,
   "metadata": {
    "collapsed": true
   },
   "outputs": [],
   "source": [
    "def feature(datum):\n",
    "    feat  = [0]*len(words)\n",
    "    if datum['Tag1']!='':\n",
    "        if datum['Tag1'] in wordId:\n",
    "            feat[wordId[datum['Tag1']]] = 1\n",
    "    if datum['Tag2']!='':\n",
    "         if datum['Tag2'] in wordId:\n",
    "            feat[wordId[datum['Tag2']]] = 1\n",
    "    if datum['Tag3']!='':\n",
    "         if datum['Tag3'] in wordId:\n",
    "            feat[wordId[datum['Tag3']]] = 1\n",
    "    if datum['Tag4']!='':\n",
    "         if datum['Tag4'] in wordId:\n",
    "            feat[wordId[datum['Tag4']]] = 1\n",
    "    if datum['Tag5']!='':\n",
    "         if datum['Tag5'] in wordId:\n",
    "            feat[wordId[datum['Tag5']]] = 1\n",
    "    \n",
    "    feat.append(datum['ReputationAtPostCreation'])\n",
    "    feat.append(datum['OwnerUndeletedAnswerCountAtPostTime'])\n",
    "    \n",
    "    return feat"
   ]
  },
  {
   "cell_type": "code",
   "execution_count": 13,
   "metadata": {
    "collapsed": true
   },
   "outputs": [],
   "source": [
    "def result(datum):\n",
    "    if datum['OpenStatus']!='open':\n",
    "        return 1\n",
    "    \n",
    "    return 0"
   ]
  },
  {
   "cell_type": "code",
   "execution_count": 14,
   "metadata": {
    "collapsed": false
   },
   "outputs": [],
   "source": [
    "X = [feature(d) for d in leData1]\n"
   ]
  },
  {
   "cell_type": "code",
   "execution_count": 15,
   "metadata": {
    "collapsed": false
   },
   "outputs": [
    {
     "data": {
      "text/plain": [
       "(150000, 150000, 150000)"
      ]
     },
     "execution_count": 15,
     "metadata": {},
     "output_type": "execute_result"
    }
   ],
   "source": [
    "y = [result(d) for d in leData1]\n",
    "\n",
    "len(leData1), len(X), len(y)"
   ]
  },
  {
   "cell_type": "code",
   "execution_count": 16,
   "metadata": {
    "collapsed": false
   },
   "outputs": [
    {
     "data": {
      "text/plain": [
       "(0, 150000, 150000)"
      ]
     },
     "execution_count": 16,
     "metadata": {},
     "output_type": "execute_result"
    }
   ],
   "source": [
    "leData1 = ''\n",
    "len(leData1)\n",
    "len(leData1), len(X), len(y)"
   ]
  },
  {
   "cell_type": "code",
   "execution_count": 21,
   "metadata": {
    "collapsed": true
   },
   "outputs": [],
   "source": [
    "modelTags = 0"
   ]
  },
  {
   "cell_type": "code",
   "execution_count": 20,
   "metadata": {
    "collapsed": true
   },
   "outputs": [],
   "source": [
    "from sklearn import linear_model\n",
    "clf = linear_model.LogisticRegression()"
   ]
  },
  {
   "cell_type": "code",
   "execution_count": 22,
   "metadata": {
    "collapsed": false
   },
   "outputs": [
    {
     "name": "stdout",
     "output_type": "stream",
     "text": [
      "done\n"
     ]
    }
   ],
   "source": [
    "clf.fit(X,y)\n",
    "print 'done'"
   ]
  },
  {
   "cell_type": "code",
   "execution_count": 23,
   "metadata": {
    "collapsed": true
   },
   "outputs": [],
   "source": [
    "predictions = clf.predict(X)\n",
    "X = 0"
   ]
  },
  {
   "cell_type": "code",
   "execution_count": 24,
   "metadata": {
    "collapsed": true
   },
   "outputs": [],
   "source": [
    "def classificationVals(predictions,y):\n",
    "    index = 0\n",
    "    truePositive = 0\n",
    "    trueNegative = 0\n",
    "    falsePositive = 0\n",
    "    falseNegative = 0\n",
    "    for x in predictions:\n",
    "        if y[index] == x:\n",
    "            if x == 1:\n",
    "                truePositive+=1\n",
    "            else:\n",
    "                trueNegative+=1\n",
    "        else:\n",
    "            if y[index] == 1 and x == 0:\n",
    "                falseNegative+=1\n",
    "            else:\n",
    "                falsePositive +=1\n",
    "        index+=1\n",
    "    return truePositive,trueNegative,falsePositive,falseNegative"
   ]
  },
  {
   "cell_type": "code",
   "execution_count": 25,
   "metadata": {
    "collapsed": false
   },
   "outputs": [
    {
     "data": {
      "text/plain": [
       "(442, 145644, 201, 3713)"
      ]
     },
     "execution_count": 25,
     "metadata": {},
     "output_type": "execute_result"
    }
   ],
   "source": [
    "clasVal = classificationVals(predictions,y)\n",
    "clasVal"
   ]
  },
  {
   "cell_type": "code",
   "execution_count": 26,
   "metadata": {
    "collapsed": true
   },
   "outputs": [],
   "source": [
    "def ClassificationAccuracy(TP,TN,FP,FN):\n",
    "    return (1.0*(TP+TN)/(TN + TP + FP +FN))"
   ]
  },
  {
   "cell_type": "code",
   "execution_count": 27,
   "metadata": {
    "collapsed": false
   },
   "outputs": [
    {
     "data": {
      "text/plain": [
       "0.9739066666666667"
      ]
     },
     "execution_count": 27,
     "metadata": {},
     "output_type": "execute_result"
    }
   ],
   "source": [
    "ClassificationAccuracy(clasVal[0],clasVal[1],clasVal[2],clasVal[3])"
   ]
  },
  {
   "cell_type": "code",
   "execution_count": 33,
   "metadata": {
    "collapsed": true
   },
   "outputs": [],
   "source": [
    "testData = []\n",
    "max = 200001\n",
    "parseCSVData('output_Final3.csv',testData,max)\n",
    "testData = testData[150000:200000]\n"
   ]
  },
  {
   "cell_type": "code",
   "execution_count": 34,
   "metadata": {
    "collapsed": false
   },
   "outputs": [
    {
     "data": {
      "text/plain": [
       "50000"
      ]
     },
     "execution_count": 34,
     "metadata": {},
     "output_type": "execute_result"
    }
   ],
   "source": [
    "len(testData)"
   ]
  },
  {
   "cell_type": "code",
   "execution_count": 35,
   "metadata": {
    "collapsed": true
   },
   "outputs": [],
   "source": [
    "X1 = [feature(d) for d in testData]\n",
    "y = [result(d) for d in testData]"
   ]
  },
  {
   "cell_type": "code",
   "execution_count": 36,
   "metadata": {
    "collapsed": true
   },
   "outputs": [],
   "source": [
    "Testpredictions = clf.predict(X1)\n"
   ]
  },
  {
   "cell_type": "code",
   "execution_count": 37,
   "metadata": {
    "collapsed": false
   },
   "outputs": [
    {
     "data": {
      "text/plain": [
       "(10, 48719, 4, 1267)"
      ]
     },
     "execution_count": 37,
     "metadata": {},
     "output_type": "execute_result"
    }
   ],
   "source": [
    "clasVal = classificationVals(Testpredictions,y)\n",
    "clasVal"
   ]
  },
  {
   "cell_type": "code",
   "execution_count": 38,
   "metadata": {
    "collapsed": false
   },
   "outputs": [
    {
     "data": {
      "text/plain": [
       "0.97458"
      ]
     },
     "execution_count": 38,
     "metadata": {},
     "output_type": "execute_result"
    }
   ],
   "source": [
    "ClassificationAccuracy(clasVal[0],clasVal[1],clasVal[2],clasVal[3])\n"
   ]
  },
  {
   "cell_type": "code",
   "execution_count": null,
   "metadata": {
    "collapsed": true
   },
   "outputs": [],
   "source": []
  },
  {
   "cell_type": "code",
   "execution_count": null,
   "metadata": {
    "collapsed": true
   },
   "outputs": [],
   "source": []
  },
  {
   "cell_type": "code",
   "execution_count": null,
   "metadata": {
    "collapsed": true
   },
   "outputs": [],
   "source": []
  }
 ],
 "metadata": {
  "kernelspec": {
   "display_name": "Python 2",
   "language": "python",
   "name": "python2"
  },
  "language_info": {
   "codemirror_mode": {
    "name": "ipython",
    "version": 2
   },
   "file_extension": ".py",
   "mimetype": "text/x-python",
   "name": "python",
   "nbconvert_exporter": "python",
   "pygments_lexer": "ipython2",
   "version": "2.7.10"
  }
 },
 "nbformat": 4,
 "nbformat_minor": 0
}
