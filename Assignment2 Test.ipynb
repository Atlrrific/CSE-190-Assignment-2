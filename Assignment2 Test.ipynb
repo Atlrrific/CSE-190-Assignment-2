{
 "cells": [
  {
   "cell_type": "code",
   "execution_count": null,
   "metadata": {
    "collapsed": false
   },
   "outputs": [],
   "source": [
    "# https://www.kaggle.com/c/predict-closed-questions-on-stack-overflow/forums/t/3083/sharing-my-solution-ranked-10\n",
    "\n",
    "\n",
    "import os\n",
    "\n",
    "def split(filehandler, delimiter=',', row_limit=1500000, \n",
    "    output_name_template='output_Final%s.csv', output_path='.', keep_headers=True):\n",
    "    \"\"\"\n",
    "    Splits a CSV file into multiple pieces.\n",
    "    \n",
    "    A quick bastardization of the Python CSV library.\n",
    "    Arguments:\n",
    "        `row_limit`: The number of rows you want in each output file. 10,000 by default.\n",
    "        `output_name_template`: A %s-style template for the numbered output files.\n",
    "        `output_path`: Where to stick the output files.\n",
    "        `keep_headers`: Whether or not to print the headers in each output file.\n",
    "    Example usage:\n",
    "    \n",
    "        >> from toolbox import csv_splitter;\n",
    "        >> csv_splitter.split(open('/home/ben/input.csv', 'r'));\n",
    "    \n",
    "    \"\"\"\n",
    "    import csv\n",
    "    reader = csv.reader(filehandler, delimiter=delimiter)\n",
    "    current_piece = 1\n",
    "    current_out_path = os.path.join(\n",
    "         output_path,\n",
    "         output_name_template  % current_piece\n",
    "    )\n",
    "    current_out_writer = csv.writer(open(current_out_path, 'w'), delimiter=delimiter)\n",
    "    current_limit = row_limit\n",
    "    if keep_headers:\n",
    "        headers = reader.next()\n",
    "        current_out_writer.writerow(headers)\n",
    "    for i, row in enumerate(reader):\n",
    "        if i + 1 > current_limit:\n",
    "            current_piece += 1\n",
    "            current_limit = row_limit * current_piece\n",
    "            current_out_path = os.path.join(\n",
    "               output_path,\n",
    "               output_name_template  % current_piece\n",
    "            )\n",
    "            current_out_writer = csv.writer(open(current_out_path, 'w'), delimiter=delimiter)\n",
    "            if keep_headers:\n",
    "                current_out_writer.writerow(headers)\n",
    "        current_out_writer.writerow(row)"
   ]
  },
  {
   "cell_type": "code",
   "execution_count": null,
   "metadata": {
    "collapsed": false
   },
   "outputs": [],
   "source": [
    "split(open('./train.csv', 'r'))"
   ]
  },
  {
   "cell_type": "code",
   "execution_count": null,
   "metadata": {
    "collapsed": false
   },
   "outputs": [],
   "source": [
    "import csv\n",
    "import numpy as np\n",
    "\n",
    "def parseCSVData(file,data,maxCount):\n",
    "    rowIndex = 0\n",
    "    rowCount = 0\n",
    "    with open(file, 'rb') as csvfile:\n",
    "        spamreader = csv.reader(csvfile, delimiter=',')\n",
    "        for row in spamreader:\n",
    "            if rowCount == maxCount:\n",
    "                break\n",
    "            rowCount+=1\n",
    "            if rowIndex !=0:\n",
    "                element = {}\n",
    "                fieldnames = (\"PostId\",\"PostCreationDate\",\"OwnerUserId\",\"OwnerCreationDate\",\"ReputationAtPostCreation\",\"OwnerUndeletedAnswerCountAtPostTime\",\"Title\",\"BodyMarkdown\",\"Tag1\",\"Tag2\",\"Tag3\",\"Tag4\",\"Tag5\",\"PostClosedDate\",\"OpenStatus\")\n",
    "                index = 0\n",
    "                for i in row:\n",
    "                    element[fieldnames[index]] = i\n",
    "                    if index == 0 or index == 5 or index == 4:   \n",
    "                        element[fieldnames[index]] = int(i)\n",
    "                    index +=1\n",
    "\n",
    "\n",
    "                data.append(element)\n",
    "            else:\n",
    "                rowIndex = 1\n",
    "    return\n"
   ]
  },
  {
   "cell_type": "code",
   "execution_count": null,
   "metadata": {
    "collapsed": false
   },
   "outputs": [],
   "source": [
    "leData1 = []\n",
    "max = 100001\n",
    "parseCSVData('output_Final1.csv',leData1,max)"
   ]
  },
  {
   "cell_type": "code",
   "execution_count": null,
   "metadata": {
    "collapsed": false
   },
   "outputs": [],
   "source": [
    "len(leData1)"
   ]
  },
  {
   "cell_type": "code",
   "execution_count": null,
   "metadata": {
    "collapsed": false
   },
   "outputs": [],
   "source": [
    "from collections import defaultdict\n",
    "\n",
    "def dataCount(ownerCount,tagCount,openStatusCount,dateClosed,data):\n",
    "    tag1NotUsed = 0\n",
    "    tag2NotUsed = 0\n",
    "    tag3NotUsed = 0\n",
    "    tag4NotUsed = 0\n",
    "    tag5NotUsed = 0\n",
    "    for i in data:\n",
    "        ownerCount[i['OwnerUserId']]+=1\n",
    "        openStatusCount[i['OpenStatus']]+=1\n",
    "        if i['Tag1'] != '':\n",
    "            tagCount[i['Tag1']]+=1\n",
    "        else:\n",
    "            tag1NotUsed+=1\n",
    "            \n",
    "        if i['Tag2'] != '':\n",
    "            tagCount[i['Tag2']]+=1\n",
    "        else:\n",
    "            tag2NotUsed+=1\n",
    "            \n",
    "        if i['Tag3'] != '':\n",
    "            tagCount[i['Tag3']]+=1\n",
    "        else:\n",
    "            tag3NotUsed+=1\n",
    "            \n",
    "        if i['Tag4'] != '':\n",
    "            tagCount[i['Tag4']]+=1\n",
    "        else:\n",
    "            tag4NotUsed+=1\n",
    "        if i['Tag5'] != '':\n",
    "            tagCount[i['Tag5']]+=1\n",
    "        else:\n",
    "            tag5NotUsed+=1\n",
    "\n",
    "        if i['PostClosedDate']!='':\n",
    "            dateClosed+=1\n",
    "        \n",
    "    dateClosed = dateClosed\n",
    "    return (tag1NotUsed,tag2NotUsed,tag3NotUsed,tag4NotUsed,tag5NotUsed)"
   ]
  },
  {
   "cell_type": "code",
   "execution_count": null,
   "metadata": {
    "collapsed": false
   },
   "outputs": [],
   "source": [
    "ownerCount = defaultdict(int)\n",
    "tagCount = defaultdict(int)\n",
    "openStatusCount = defaultdict(int)\n",
    "dateClosed = 0\n",
    "\n",
    "\n",
    "tagNotUsed = dataCount(ownerCount,tagCount,openStatusCount,dateClosed,leData1)"
   ]
  },
  {
   "cell_type": "code",
   "execution_count": null,
   "metadata": {
    "collapsed": false
   },
   "outputs": [],
   "source": [
    "totalTagNotUsed = 0\n",
    "for i in tagNotUsed:\n",
    "    totalTagNotUsed+=i"
   ]
  },
  {
   "cell_type": "code",
   "execution_count": null,
   "metadata": {
    "collapsed": false
   },
   "outputs": [],
   "source": [
    "totalTagNotUsed, (100000)*5 - totalTagNotUsed"
   ]
  },
  {
   "cell_type": "code",
   "execution_count": null,
   "metadata": {
    "collapsed": false
   },
   "outputs": [],
   "source": [
    "openStatusCount,dateClosed"
   ]
  },
  {
   "cell_type": "code",
   "execution_count": null,
   "metadata": {
    "collapsed": false
   },
   "outputs": [],
   "source": [
    "totalNotClosed  = 0\n",
    "closedQuestions = []\n",
    "for x in openStatusCount:\n",
    "    if x!= 'open':\n",
    "        closedQuestions.append(x)\n",
    "        totalNotClosed += openStatusCount[x]\n",
    "totalNotClosed,dateClosed"
   ]
  },
  {
   "cell_type": "code",
   "execution_count": null,
   "metadata": {
    "collapsed": true
   },
   "outputs": [],
   "source": [
    "totalNotClosed  = 0\n",
    "closedQuestions = []\n",
    "for x in leData1:\n",
    "    if x['OpenStatus']!= 'open':\n",
    "        closedQuestions.append(x)"
   ]
  },
  {
   "cell_type": "code",
   "execution_count": null,
   "metadata": {
    "collapsed": false
   },
   "outputs": [],
   "source": [
    "maxInt = 0\n",
    "maxDict = {}\n",
    "maxDictByUser = defaultdict(int)\n",
    "for x in closedQuestions:\n",
    "    i = int(x['ReputationAtPostCreation'])\n",
    "    maxDictByUser[x['ReputationAtPostCreation']] += 1\n",
    "    if i>maxInt:\n",
    "        maxInt = i\n",
    "        maxDict = x\n",
    "        \n",
    "maxInt"
   ]
  },
  {
   "cell_type": "code",
   "execution_count": null,
   "metadata": {
    "collapsed": false
   },
   "outputs": [],
   "source": [
    "countOfReputationsLessThan200 = 0\n",
    "for x in maxDictByUser:\n",
    "    if x < 200:\n",
    "        countOfReputationsLessThan200+=maxDictByUser[x]"
   ]
  },
  {
   "cell_type": "code",
   "execution_count": null,
   "metadata": {
    "collapsed": false
   },
   "outputs": [],
   "source": [
    "countOfReputationsLessThan200"
   ]
  },
  {
   "cell_type": "markdown",
   "metadata": {},
   "source": [
    "### For most of the closed questions the reputations of the users are below 200 and the max is 123251. "
   ]
  },
  {
   "cell_type": "code",
   "execution_count": null,
   "metadata": {
    "collapsed": false
   },
   "outputs": [],
   "source": [
    "maxInt = 0\n",
    "maxDict = {}\n",
    "maxDictByUser = defaultdict(int)\n",
    "for x in leData1:\n",
    "    i = int(x['ReputationAtPostCreation'])\n",
    "    maxDictByUser[x['ReputationAtPostCreation']] += 1\n",
    "    if i>maxInt:\n",
    "        maxInt = i\n",
    "        maxDict = x\n",
    "        \n",
    "maxInt"
   ]
  },
  {
   "cell_type": "code",
   "execution_count": null,
   "metadata": {
    "collapsed": false
   },
   "outputs": [],
   "source": [
    "countOfReputationsLessThan200 = 0\n",
    "for x in maxDictByUser:\n",
    "    if x < 200:\n",
    "        countOfReputationsLessThan200+=maxDictByUser[x]\n",
    "countOfReputationsLessThan200"
   ]
  },
  {
   "cell_type": "markdown",
   "metadata": {},
   "source": [
    "### From the overall dataset also most of the users have reputations below 200, 922954/1400000"
   ]
  },
  {
   "cell_type": "markdown",
   "metadata": {},
   "source": [
    "## Question, can the type of questions by the tag influence if the question is closed or not. Do some users tend to show bad questions than others in specific topics?"
   ]
  },
  {
   "cell_type": "code",
   "execution_count": null,
   "metadata": {
    "collapsed": false
   },
   "outputs": [],
   "source": [
    "tagCount\n",
    "import operator\n",
    "sorted_x = sorted(tagCount.items(), key=operator.itemgetter(1))"
   ]
  },
  {
   "cell_type": "code",
   "execution_count": null,
   "metadata": {
    "collapsed": false
   },
   "outputs": [],
   "source": [
    "sorted_x.reverse()\n",
    "len(sorted_x)"
   ]
  },
  {
   "cell_type": "code",
   "execution_count": null,
   "metadata": {
    "collapsed": false
   },
   "outputs": [],
   "source": [
    "10.0*37272/100"
   ]
  },
  {
   "cell_type": "markdown",
   "metadata": {},
   "source": [
    "### Check if Most of reviews exist on the top 20%"
   ]
  },
  {
   "cell_type": "code",
   "execution_count": null,
   "metadata": {
    "collapsed": false
   },
   "outputs": [],
   "source": [
    "tagCountReviews = 0\n",
    "tempTags = sorted_x[0:3727]\n",
    "tempTags\n",
    "for i in tempTags:\n",
    "    print i\n",
    "    tagCountReviews += i[1]"
   ]
  },
  {
   "cell_type": "code",
   "execution_count": null,
   "metadata": {
    "collapsed": false
   },
   "outputs": [],
   "source": [
    "tagCountReviews"
   ]
  },
  {
   "cell_type": "code",
   "execution_count": null,
   "metadata": {
    "collapsed": false
   },
   "outputs": [],
   "source": [
    "4254002-tagCountReviews"
   ]
  },
  {
   "cell_type": "code",
   "execution_count": null,
   "metadata": {
    "collapsed": true
   },
   "outputs": [],
   "source": [
    "top10PercentTags = {}\n",
    "for tag in tempTags:\n",
    "    top10PercentTags[tag[0]] = tag[1]"
   ]
  },
  {
   "cell_type": "markdown",
   "metadata": {},
   "source": [
    "### The 10% most popular tags are used on almost 90% of the reviews."
   ]
  },
  {
   "cell_type": "markdown",
   "metadata": {},
   "source": [
    "### Lets check if the most popular tags are used on the closed Questions. \n"
   ]
  },
  {
   "cell_type": "code",
   "execution_count": null,
   "metadata": {
    "collapsed": false
   },
   "outputs": [],
   "source": [
    "def averageTagsSpaceUsed(data):\n",
    "    tagSpace = 0\n",
    "    for x in data:\n",
    "        thisQuestions = 0\n",
    "        if x['Tag1'] != '':\n",
    "            thisQuestions +=1\n",
    "        if x['Tag2'] != '':\n",
    "            thisQuestions +=1\n",
    "        if x['Tag3'] != '':\n",
    "            thisQuestions +=1\n",
    "            \n",
    "        if x['Tag4'] != '':\n",
    "            thisQuestions +=1\n",
    "        if x['Tag5'] != '':\n",
    "            thisQuestions +=1\n",
    "        \n",
    "        tagSpace += 1.0*thisQuestions/5\n",
    "    \n",
    "    return (tagSpace)"
   ]
  },
  {
   "cell_type": "code",
   "execution_count": null,
   "metadata": {
    "collapsed": false
   },
   "outputs": [],
   "source": [
    "averageTagsSpaceUsed(leData1)/(len(leData1))"
   ]
  },
  {
   "cell_type": "code",
   "execution_count": null,
   "metadata": {
    "collapsed": true
   },
   "outputs": [],
   "source": [
    "\n",
    "\n",
    "closedOwnerCount = defaultdict(int)\n",
    "closedTagCount = defaultdict(int)\n",
    "closedOpenStatusCount = defaultdict(int)\n",
    "dateClosed = 0\n",
    "\n",
    "\n",
    "tagNotUsed = dataCount(closedOwnerCount,closedTagCount,closedOpenStatusCount,dateClosed,closedQuestions)"
   ]
  },
  {
   "cell_type": "code",
   "execution_count": null,
   "metadata": {
    "collapsed": false
   },
   "outputs": [],
   "source": [
    "totalClosedTagNotUsed = 0\n",
    "for i in tagNotUsed:\n",
    "    totalClosedTagNotUsed+=i\n",
    "    \n",
    "totalClosedTagNotUsed"
   ]
  },
  {
   "cell_type": "code",
   "execution_count": null,
   "metadata": {
    "collapsed": false
   },
   "outputs": [],
   "source": [
    "len(closedQuestions)*5"
   ]
  },
  {
   "cell_type": "code",
   "execution_count": null,
   "metadata": {
    "collapsed": false
   },
   "outputs": [],
   "source": [
    "141500 - 69631"
   ]
  },
  {
   "cell_type": "code",
   "execution_count": null,
   "metadata": {
    "collapsed": false
   },
   "outputs": [],
   "source": [
    "averageTagsSpaceUsed(closedQuestions)"
   ]
  },
  {
   "cell_type": "code",
   "execution_count": null,
   "metadata": {
    "collapsed": false
   },
   "outputs": [],
   "source": [
    "inTopTags  = 0\n",
    "for i in closedTagCount:\n",
    "    if i in top10PercentTags:\n",
    "        inTopTags+=1"
   ]
  },
  {
   "cell_type": "code",
   "execution_count": null,
   "metadata": {
    "collapsed": false
   },
   "outputs": [],
   "source": [
    "inTopTags, len(top10PercentTags)"
   ]
  },
  {
   "cell_type": "code",
   "execution_count": null,
   "metadata": {
    "collapsed": false
   },
   "outputs": [],
   "source": [
    "len(closedTagCount)"
   ]
  },
  {
   "cell_type": "code",
   "execution_count": null,
   "metadata": {
    "collapsed": false
   },
   "outputs": [],
   "source": [
    "sorted_x\n",
    "words = [x[0] for x in sorted_x]\n",
    "\n",
    "wordId = dict(zip(words, range(len(words))))\n",
    "wordSet = set(words)\n",
    "wordId"
   ]
  },
  {
   "cell_type": "markdown",
   "metadata": {},
   "source": [
    "## After observing how important were th weights towards the tags, we can assume that the tag might be a good and important use "
   ]
  },
  {
   "cell_type": "markdown",
   "metadata": {},
   "source": [
    "### Linear Regressor using the tags, title and Reputation and postCount"
   ]
  },
  {
   "cell_type": "code",
   "execution_count": null,
   "metadata": {
    "collapsed": false
   },
   "outputs": [],
   "source": [
    "# #Question 3: Polynomian with ABV ^4\n",
    "# def feature4(datum):\n",
    "#   feat = [1]\n",
    "#   feat.append(datum['beer/ABV'])\n",
    "#   feat.append(datum['beer/ABV']**(2))\n",
    "#   feat.append(datum['beer/ABV']**(3))\n",
    "#   feat.append(datum['beer/ABV']**(4))\n",
    "#   return feat\n",
    "#  = (\"PostId\",\"PostCreationDate\",\"OwnerUserId\",\"OwnerCreationDate\",\"ReputationAtPostCreation\",\"OwnerUndeletedAnswerCountAtPostTime\",\"Title\",\"BodyMarkdown\",\"Tag1\",\"Tag2\",\"Tag3\",\"Tag4\",\"Tag5\",\"PostClosedDate\",\"OpenStatus\")\n",
    "# def feature(datum):\n",
    "#   feat = [0]*len(words)\n",
    "#   r = ''.join([c for c in datum['review/text'].lower() if not c in punctuation])\n",
    "#   for w in r.split():\n",
    "#     if w in words:\n",
    "#       feat[wordId[w]] += 1\n",
    "#   feat.append(1) #offset\n",
    "#   return feat\n",
    "\n",
    "def feature(datum):\n",
    "    feat  = [0]*len(words)\n",
    "#     feat.append(datum['ReputationAtPostCreation'])\n",
    "#     feat.append(datum['OwnerUndeletedAnswerCountAtPostTime'])\n",
    "#     Adding the tags as features\n",
    "    if datum['Tag1']!='':\n",
    "        feat[wordId[datum['Tag1']]] = 1\n",
    "    if datum['Tag2']!='':\n",
    "        feat[wordId[datum['Tag2']]] = 1\n",
    "    if datum['Tag3']!='':\n",
    "        feat[wordId[datum['Tag3']]] = 1\n",
    "    if datum['Tag4']!='':\n",
    "        feat[wordId[datum['Tag4']]] = 1\n",
    "    if datum['Tag5']!='':\n",
    "        feat[wordId[datum['Tag5']]] = 1\n",
    "    \n",
    "    feat.append(datum['ReputationAtPostCreation'])\n",
    "    feat.append(datum['OwnerUndeletedAnswerCountAtPostTime'])\n",
    "    \n",
    "    return feat"
   ]
  },
  {
   "cell_type": "code",
   "execution_count": null,
   "metadata": {
    "collapsed": true
   },
   "outputs": [],
   "source": [
    "def result(datum):\n",
    "    if datum['OpenStatus']!='open':\n",
    "        return 1\n",
    "    \n",
    "    return 0"
   ]
  },
  {
   "cell_type": "code",
   "execution_count": null,
   "metadata": {
    "collapsed": false
   },
   "outputs": [],
   "source": [
    "feat = feature(leData1[1])\n",
    "len(feat)"
   ]
  },
  {
   "cell_type": "code",
   "execution_count": null,
   "metadata": {
    "collapsed": false
   },
   "outputs": [],
   "source": [
    "wordId['html'],feat[12]"
   ]
  },
  {
   "cell_type": "code",
   "execution_count": null,
   "metadata": {
    "collapsed": false
   },
   "outputs": [],
   "source": [
    "X = [feature(d) for d in leData1]"
   ]
  },
  {
   "cell_type": "code",
   "execution_count": null,
   "metadata": {
    "collapsed": false
   },
   "outputs": [],
   "source": [
    "y = [result(d) for d in leData1]"
   ]
  },
  {
   "cell_type": "code",
   "execution_count": null,
   "metadata": {
    "collapsed": false
   },
   "outputs": [],
   "source": [
    "len(leData1), len(X), len(y)"
   ]
  },
  {
   "cell_type": "code",
   "execution_count": null,
   "metadata": {
    "collapsed": false
   },
   "outputs": [],
   "source": [
    "leData1 = ''\n",
    "len(leData1)"
   ]
  },
  {
   "cell_type": "code",
   "execution_count": null,
   "metadata": {
    "collapsed": true
   },
   "outputs": [],
   "source": [
    "from sklearn import linear_model"
   ]
  },
  {
   "cell_type": "code",
   "execution_count": null,
   "metadata": {
    "collapsed": true
   },
   "outputs": [],
   "source": [
    "clf = linear_model.LogisticRegression()"
   ]
  },
  {
   "cell_type": "code",
   "execution_count": null,
   "metadata": {
    "collapsed": false
   },
   "outputs": [],
   "source": [
    "clf.fit(X,y)"
   ]
  },
  {
   "cell_type": "code",
   "execution_count": null,
   "metadata": {
    "collapsed": true
   },
   "outputs": [],
   "source": [
    "predictions = clf.predict(X)"
   ]
  },
  {
   "cell_type": "code",
   "execution_count": null,
   "metadata": {
    "collapsed": false
   },
   "outputs": [],
   "source": [
    "len(leData1)\n"
   ]
  },
  {
   "cell_type": "code",
   "execution_count": null,
   "metadata": {
    "collapsed": false
   },
   "outputs": [],
   "source": [
    "print predictions"
   ]
  },
  {
   "cell_type": "code",
   "execution_count": null,
   "metadata": {
    "collapsed": false
   },
   "outputs": [],
   "source": [
    "index = 0\n",
    "countRight = 0\n",
    "for x in predictions:\n",
    "    if y[index] == x:\n",
    "        countRight+=1\n",
    "    \n",
    "    index+=1\n",
    "countRight"
   ]
  },
  {
   "cell_type": "code",
   "execution_count": null,
   "metadata": {
    "collapsed": false
   },
   "outputs": [],
   "source": [
    "len(predictions)"
   ]
  },
  {
   "cell_type": "code",
   "execution_count": null,
   "metadata": {
    "collapsed": true
   },
   "outputs": [],
   "source": []
  }
 ],
 "metadata": {
  "kernelspec": {
   "display_name": "Python 2",
   "language": "python",
   "name": "python2"
  },
  "language_info": {
   "codemirror_mode": {
    "name": "ipython",
    "version": 2
   },
   "file_extension": ".py",
   "mimetype": "text/x-python",
   "name": "python",
   "nbconvert_exporter": "python",
   "pygments_lexer": "ipython2",
   "version": "2.7.10"
  }
 },
 "nbformat": 4,
 "nbformat_minor": 0
}
