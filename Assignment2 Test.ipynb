{
 "cells": [
  {
   "cell_type": "code",
   "execution_count": 6,
   "metadata": {
    "collapsed": false
   },
   "outputs": [],
   "source": [
    "import os\n",
    "\n",
    "def split(filehandler, delimiter=',', row_limit=1500000, \n",
    "    output_name_template='output_Final%s.csv', output_path='.', keep_headers=True):\n",
    "    \"\"\"\n",
    "    Splits a CSV file into multiple pieces.\n",
    "    \n",
    "    A quick bastardization of the Python CSV library.\n",
    "    Arguments:\n",
    "        `row_limit`: The number of rows you want in each output file. 10,000 by default.\n",
    "        `output_name_template`: A %s-style template for the numbered output files.\n",
    "        `output_path`: Where to stick the output files.\n",
    "        `keep_headers`: Whether or not to print the headers in each output file.\n",
    "    Example usage:\n",
    "    \n",
    "        >> from toolbox import csv_splitter;\n",
    "        >> csv_splitter.split(open('/home/ben/input.csv', 'r'));\n",
    "    \n",
    "    \"\"\"\n",
    "    import csv\n",
    "    reader = csv.reader(filehandler, delimiter=delimiter)\n",
    "    current_piece = 1\n",
    "    current_out_path = os.path.join(\n",
    "         output_path,\n",
    "         output_name_template  % current_piece\n",
    "    )\n",
    "    current_out_writer = csv.writer(open(current_out_path, 'w'), delimiter=delimiter)\n",
    "    current_limit = row_limit\n",
    "    if keep_headers:\n",
    "        headers = reader.next()\n",
    "        current_out_writer.writerow(headers)\n",
    "    for i, row in enumerate(reader):\n",
    "        if i + 1 > current_limit:\n",
    "            current_piece += 1\n",
    "            current_limit = row_limit * current_piece\n",
    "            current_out_path = os.path.join(\n",
    "               output_path,\n",
    "               output_name_template  % current_piece\n",
    "            )\n",
    "            current_out_writer = csv.writer(open(current_out_path, 'w'), delimiter=delimiter)\n",
    "            if keep_headers:\n",
    "                current_out_writer.writerow(headers)\n",
    "        current_out_writer.writerow(row)"
   ]
  },
  {
   "cell_type": "code",
   "execution_count": null,
   "metadata": {
    "collapsed": false
   },
   "outputs": [],
   "source": [
    "split(open('./train.csv', 'r'))"
   ]
  },
  {
   "cell_type": "code",
   "execution_count": 1,
   "metadata": {
    "collapsed": false
   },
   "outputs": [],
   "source": [
    "import csv\n",
    "\n",
    "def parseCSVData(file):\n",
    "    data = []\n",
    "    rowIndex = 0\n",
    "    with open(file, 'rb') as csvfile:\n",
    "        spamreader = csv.reader(csvfile, delimiter=',')\n",
    "        for row in spamreader:\n",
    "            if rowIndex !=0:\n",
    "                element = {}\n",
    "                fieldnames = (\"PostId\",\"PostCreationDate\",\"OwnerUserId\",\"OwnerCreationDate\",\"ReputationAtPostCreation\",\"OwnerUndeletedAnswerCountAtPostTime\",\"Title\",\"BodyMarkdown\",\"Tag1\",\"Tag2\",\"Tag3\",\"Tag4\",\"Tag5\",\"PostClosedDate\",\"OpenStatus\")\n",
    "                index = 0\n",
    "                for i in row:\n",
    "                    element[fieldnames[index]] = i\n",
    "                    if index == 0 or index == 5:   \n",
    "                        element[fieldnames[index]] = int(i)\n",
    "                    index +=1\n",
    "\n",
    "\n",
    "                data.append(element)\n",
    "            else:\n",
    "                rowIndex = 1\n",
    "    return data\n"
   ]
  },
  {
   "cell_type": "code",
   "execution_count": 25,
   "metadata": {
    "collapsed": false
   },
   "outputs": [],
   "source": [
    "leData1 = parseCSVData('output_Final3.csv')"
   ]
  },
  {
   "cell_type": "code",
   "execution_count": 26,
   "metadata": {
    "collapsed": false
   },
   "outputs": [
    {
     "data": {
      "text/plain": [
       "664856"
      ]
     },
     "execution_count": 26,
     "metadata": {},
     "output_type": "execute_result"
    }
   ],
   "source": [
    "len(leData1)"
   ]
  },
  {
   "cell_type": "code",
   "execution_count": 27,
   "metadata": {
    "collapsed": false
   },
   "outputs": [],
   "source": [
    "from collections import defaultdict\n",
    "\n",
    "def dataCount(ownerCount,tagCount,openStatusCount,dateClosed):\n",
    "    for i in leData1:\n",
    "        ownerCount[i['OwnerUserId']]+=1\n",
    "        openStatusCount[i['OpenStatus']]+=1\n",
    "        if i['Tag1'] != '':\n",
    "            tagCount[i['Tag1']]+=1\n",
    "        if i['Tag2'] != '':\n",
    "            tagCount[i['Tag2']]+=1\n",
    "        if i['Tag3'] != '':\n",
    "            tagCount[i['Tag3']]+=1\n",
    "        if i['Tag4'] != '':\n",
    "            tagCount[i['Tag4']]+=1\n",
    "        if i['Tag5'] != '':\n",
    "            tagCount[i['Tag5']]+=1\n",
    "\n",
    "        if i['PostClosedDate']!='':\n",
    "            dateClosed+=1\n",
    "        \n",
    "    dateClosed = dateClosed\n",
    "    "
   ]
  },
  {
   "cell_type": "code",
   "execution_count": 28,
   "metadata": {
    "collapsed": true
   },
   "outputs": [],
   "source": [
    "ownerCount = defaultdict(int)\n",
    "tagCount = defaultdict(int)\n",
    "openStatusCount = defaultdict(int)\n",
    "dateClosed = 0\n",
    "\n",
    "dataCount(ownerCount,tagCount,openStatusCount,dateClosed)"
   ]
  },
  {
   "cell_type": "code",
   "execution_count": 29,
   "metadata": {
    "collapsed": false
   },
   "outputs": [
    {
     "data": {
      "text/plain": [
       "(defaultdict(int,\n",
       "             {'not a real question': 10369,\n",
       "              'not constructive': 4165,\n",
       "              'off topic': 5215,\n",
       "              'open': 642309,\n",
       "              'too localized': 2798}),\n",
       " 0)"
      ]
     },
     "execution_count": 29,
     "metadata": {},
     "output_type": "execute_result"
    }
   ],
   "source": [
    "openStatusCount,dateClosed"
   ]
  },
  {
   "cell_type": "code",
   "execution_count": 30,
   "metadata": {
    "collapsed": false
   },
   "outputs": [
    {
     "data": {
      "text/plain": [
       "(22547, 0)"
      ]
     },
     "execution_count": 30,
     "metadata": {},
     "output_type": "execute_result"
    }
   ],
   "source": [
    "totalNotClosed  = 0\n",
    "for x in openStatusCount:\n",
    "    if x!= 'open':\n",
    "        totalNotClosed += openStatusCount[x]\n",
    "totalNotClosed,dateClosed"
   ]
  },
  {
   "cell_type": "markdown",
   "metadata": {},
   "source": [
    "38329,22547"
   ]
  }
 ],
 "metadata": {
  "kernelspec": {
   "display_name": "Python 2",
   "language": "python",
   "name": "python2"
  },
  "language_info": {
   "codemirror_mode": {
    "name": "ipython",
    "version": 2
   },
   "file_extension": ".py",
   "mimetype": "text/x-python",
   "name": "python",
   "nbconvert_exporter": "python",
   "pygments_lexer": "ipython2",
   "version": "2.7.10"
  }
 },
 "nbformat": 4,
 "nbformat_minor": 0
}
